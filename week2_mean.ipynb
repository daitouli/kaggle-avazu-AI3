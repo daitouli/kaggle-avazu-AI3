{
 "cells": [
  {
   "cell_type": "markdown",
   "metadata": {},
   "source": [
    "# 第二周 特征工程"
   ]
  },
  {
   "cell_type": "code",
   "execution_count": 1,
   "metadata": {},
   "outputs": [],
   "source": [
    "import pandas as pd\n",
    "import numpy as np\n",
    "import matplotlib.pyplot as plt\n",
    "import seaborn as sns\n",
    "from scipy import sparse\n",
    "from utils import *\n",
    "from sklearn.preprocessing import OneHotEncoder\n",
    "from sklearn.preprocessing import StandardScaler\n",
    "from sklearn.model_selection import GridSearchCV\n",
    "from sklearn.metrics import log_loss  \n",
    "from sklearn.metrics import accuracy_score \n",
    "from sklearn.linear_model import LogisticRegression\n",
    "%matplotlib inline"
   ]
  },
  {
   "cell_type": "markdown",
   "metadata": {},
   "source": [
    "## 1、数据读取"
   ]
  },
  {
   "cell_type": "code",
   "execution_count": 2,
   "metadata": {},
   "outputs": [
    {
     "name": "stdout",
     "output_type": "stream",
     "text": [
      "number of records :40428968\n"
     ]
    }
   ],
   "source": [
    "#数据总数\n",
    "lines = 0\n",
    "fin = open(\"train.csv\", 'rb')\n",
    "for line in fin:\n",
    "    lines += 1\n",
    "fin.close()\n",
    "print(\"number of records :%d\" % lines)"
   ]
  },
  {
   "cell_type": "code",
   "execution_count": 3,
   "metadata": {},
   "outputs": [],
   "source": [
    "#先读取1/4的数据热热身，id没用扔掉\n",
    "data_train=pd.read_csv('train.csv',nrows=1e7)\n",
    "data_train = data_train.drop('id', axis = 1)"
   ]
  },
  {
   "cell_type": "code",
   "execution_count": 4,
   "metadata": {},
   "outputs": [
    {
     "name": "stdout",
     "output_type": "stream",
     "text": [
      "testing with small sample of training data,  (99841, 23)\n"
     ]
    }
   ],
   "source": [
    "#降采样，省点时间\n",
    "sample_rate=0.01\n",
    "if sample_rate < 1.0:\n",
    "    np.random.seed(999)\n",
    "    r1 = np.random.uniform(0, 1, data_train.shape[0])  #产生0～40M的随机数    \n",
    "    data_train = data_train.iloc[r1 < sample_rate,:]\n",
    "    print (\"testing with small sample of training data, \", data_train.shape)"
   ]
  },
  {
   "cell_type": "markdown",
   "metadata": {},
   "source": [
    "## 2、特征工程"
   ]
  },
  {
   "cell_type": "code",
   "execution_count": 5,
   "metadata": {},
   "outputs": [],
   "source": [
    "#特征组合hour,site_app....\n",
    "#多少号\n",
    "data_train['day']=np.round(data_train['hour'] % 10000 / 100)\n",
    "#一天第几小时\n",
    "data_train['hour1'] = np.round(data_train['hour'] % 100)\n",
    "#从开始的第几个小时\n",
    "data_train['day_hour'] = (data_train.day.values - 21) * 24 + data_train.hour1.values\n",
    "#周几，随便开始的，反正是类别变量\n",
    "data_train['weekday']=np.round(data_train['hour'] % 10000 / 100)%7"
   ]
  },
  {
   "cell_type": "code",
   "execution_count": 6,
   "metadata": {},
   "outputs": [],
   "source": [
    "#除了click，其余特征编码为数值，节约内存\n",
    "for var in data_train.columns:\n",
    "    if var in ['click']:\n",
    "        pass\n",
    "    else:\n",
    "        data_train[var]=data_train[var].astype('category').values.codes        "
   ]
  },
  {
   "cell_type": "code",
   "execution_count": 7,
   "metadata": {},
   "outputs": [
    {
     "name": "stdout",
     "output_type": "stream",
     "text": [
      "banner_pos have been replaced\n",
      "site_id have been replaced\n",
      "site_domain have been replaced\n",
      "site_category have been replaced\n",
      "app_id have been replaced\n",
      "app_domain have been replaced\n",
      "app_category have been replaced\n",
      "device_id have been replaced\n",
      "device_ip have been replaced\n",
      "device_model have been replaced\n",
      "C14 have been replaced\n",
      "C15 have been replaced\n",
      "C16 have been replaced\n",
      "C17 have been replaced\n",
      "C19 have been replaced\n",
      "C20 have been replaced\n",
      "C21 have been replaced\n"
     ]
    }
   ],
   "source": [
    "#将出现频率低于10的特征替换为else\n",
    "data_train=fill_outlier(data_train,fre=10,name='else')"
   ]
  },
  {
   "cell_type": "code",
   "execution_count": 8,
   "metadata": {},
   "outputs": [
    {
     "name": "stdout",
     "output_type": "stream",
     "text": [
      "\n",
      "hour属性的取值和次数\n",
      "\n",
      "C1属性的取值和次数\n",
      "\n",
      "banner_pos属性的取值和次数\n",
      "\n",
      "site_id属性的取值和次数\n",
      "\n",
      "site_domain属性的取值和次数\n",
      "\n",
      "site_category属性的取值和次数\n",
      "\n",
      "app_id属性的取值和次数\n",
      "\n",
      "app_domain属性的取值和次数\n",
      "\n",
      "app_category属性的取值和次数\n",
      "\n",
      "device_id属性的取值和次数\n",
      "\n",
      "device_ip属性的取值和次数\n",
      "\n",
      "device_model属性的取值和次数\n",
      "\n",
      "device_type属性的取值和次数\n",
      "\n",
      "device_conn_type属性的取值和次数\n",
      "\n",
      "C14属性的取值和次数\n",
      "\n",
      "C15属性的取值和次数\n",
      "\n",
      "C16属性的取值和次数\n",
      "\n",
      "C17属性的取值和次数\n",
      "\n",
      "C18属性的取值和次数\n",
      "\n",
      "C19属性的取值和次数\n",
      "\n",
      "C20属性的取值和次数\n",
      "\n",
      "C21属性的取值和次数\n",
      "\n",
      "day属性的取值和次数\n",
      "\n",
      "hour1属性的取值和次数\n",
      "\n",
      "day_hour属性的取值和次数\n",
      "\n",
      "weekday属性的取值和次数\n"
     ]
    },
    {
     "data": {
      "text/html": [
       "<div>\n",
       "<style scoped>\n",
       "    .dataframe tbody tr th:only-of-type {\n",
       "        vertical-align: middle;\n",
       "    }\n",
       "\n",
       "    .dataframe tbody tr th {\n",
       "        vertical-align: top;\n",
       "    }\n",
       "\n",
       "    .dataframe thead th {\n",
       "        text-align: right;\n",
       "    }\n",
       "</style>\n",
       "<table border=\"1\" class=\"dataframe\">\n",
       "  <thead>\n",
       "    <tr style=\"text-align: right;\">\n",
       "      <th></th>\n",
       "      <th>code_hour</th>\n",
       "      <th>code_C1</th>\n",
       "      <th>code_banner_pos</th>\n",
       "      <th>code_site_id</th>\n",
       "      <th>code_site_domain</th>\n",
       "      <th>code_site_category</th>\n",
       "      <th>code_app_id</th>\n",
       "      <th>code_app_domain</th>\n",
       "      <th>code_app_category</th>\n",
       "      <th>code_device_id</th>\n",
       "      <th>...</th>\n",
       "      <th>code_C16</th>\n",
       "      <th>code_C17</th>\n",
       "      <th>code_C18</th>\n",
       "      <th>code_C19</th>\n",
       "      <th>code_C20</th>\n",
       "      <th>code_C21</th>\n",
       "      <th>code_day</th>\n",
       "      <th>code_hour1</th>\n",
       "      <th>code_day_hour</th>\n",
       "      <th>code_weekday</th>\n",
       "    </tr>\n",
       "  </thead>\n",
       "  <tbody>\n",
       "    <tr>\n",
       "      <th>37</th>\n",
       "      <td>0.161369</td>\n",
       "      <td>0.163542</td>\n",
       "      <td>0.162868</td>\n",
       "      <td>0.131827</td>\n",
       "      <td>0.134832</td>\n",
       "      <td>0.140056</td>\n",
       "      <td>0.138528</td>\n",
       "      <td>0.138528</td>\n",
       "      <td>0.181850</td>\n",
       "      <td>0.165987</td>\n",
       "      <td>...</td>\n",
       "      <td>0.156461</td>\n",
       "      <td>0.084553</td>\n",
       "      <td>0.147997</td>\n",
       "      <td>0.142737</td>\n",
       "      <td>0.157746</td>\n",
       "      <td>0.107680</td>\n",
       "      <td>0.173759</td>\n",
       "      <td>0.170765</td>\n",
       "      <td>0.161369</td>\n",
       "      <td>0.173759</td>\n",
       "    </tr>\n",
       "    <tr>\n",
       "      <th>177</th>\n",
       "      <td>0.161369</td>\n",
       "      <td>0.163542</td>\n",
       "      <td>0.162868</td>\n",
       "      <td>0.204586</td>\n",
       "      <td>0.204586</td>\n",
       "      <td>0.195482</td>\n",
       "      <td>0.185673</td>\n",
       "      <td>0.182834</td>\n",
       "      <td>0.186835</td>\n",
       "      <td>0.165987</td>\n",
       "      <td>...</td>\n",
       "      <td>0.156461</td>\n",
       "      <td>0.192816</td>\n",
       "      <td>0.147997</td>\n",
       "      <td>0.142737</td>\n",
       "      <td>0.181245</td>\n",
       "      <td>0.187803</td>\n",
       "      <td>0.173759</td>\n",
       "      <td>0.170765</td>\n",
       "      <td>0.161369</td>\n",
       "      <td>0.173759</td>\n",
       "    </tr>\n",
       "    <tr>\n",
       "      <th>217</th>\n",
       "      <td>0.161369</td>\n",
       "      <td>0.163542</td>\n",
       "      <td>0.162868</td>\n",
       "      <td>0.204586</td>\n",
       "      <td>0.204586</td>\n",
       "      <td>0.195482</td>\n",
       "      <td>0.185673</td>\n",
       "      <td>0.182834</td>\n",
       "      <td>0.186835</td>\n",
       "      <td>0.165987</td>\n",
       "      <td>...</td>\n",
       "      <td>0.156461</td>\n",
       "      <td>0.192816</td>\n",
       "      <td>0.147997</td>\n",
       "      <td>0.142737</td>\n",
       "      <td>0.213944</td>\n",
       "      <td>0.187803</td>\n",
       "      <td>0.173759</td>\n",
       "      <td>0.170765</td>\n",
       "      <td>0.161369</td>\n",
       "      <td>0.173759</td>\n",
       "    </tr>\n",
       "    <tr>\n",
       "      <th>333</th>\n",
       "      <td>0.161369</td>\n",
       "      <td>0.163542</td>\n",
       "      <td>0.162868</td>\n",
       "      <td>0.165154</td>\n",
       "      <td>0.164953</td>\n",
       "      <td>0.166852</td>\n",
       "      <td>0.185673</td>\n",
       "      <td>0.182834</td>\n",
       "      <td>0.186835</td>\n",
       "      <td>0.165987</td>\n",
       "      <td>...</td>\n",
       "      <td>0.156461</td>\n",
       "      <td>0.084553</td>\n",
       "      <td>0.147997</td>\n",
       "      <td>0.142737</td>\n",
       "      <td>0.181245</td>\n",
       "      <td>0.107680</td>\n",
       "      <td>0.173759</td>\n",
       "      <td>0.170765</td>\n",
       "      <td>0.161369</td>\n",
       "      <td>0.173759</td>\n",
       "    </tr>\n",
       "    <tr>\n",
       "      <th>359</th>\n",
       "      <td>0.161369</td>\n",
       "      <td>0.238532</td>\n",
       "      <td>0.162868</td>\n",
       "      <td>0.131827</td>\n",
       "      <td>0.134832</td>\n",
       "      <td>0.140056</td>\n",
       "      <td>0.137972</td>\n",
       "      <td>0.182834</td>\n",
       "      <td>0.186835</td>\n",
       "      <td>0.157837</td>\n",
       "      <td>...</td>\n",
       "      <td>0.156461</td>\n",
       "      <td>0.288793</td>\n",
       "      <td>0.140741</td>\n",
       "      <td>0.283384</td>\n",
       "      <td>0.181245</td>\n",
       "      <td>0.280989</td>\n",
       "      <td>0.173759</td>\n",
       "      <td>0.170765</td>\n",
       "      <td>0.161369</td>\n",
       "      <td>0.173759</td>\n",
       "    </tr>\n",
       "  </tbody>\n",
       "</table>\n",
       "<p>5 rows × 26 columns</p>\n",
       "</div>"
      ],
      "text/plain": [
       "     code_hour   code_C1  code_banner_pos  code_site_id  code_site_domain  \\\n",
       "37    0.161369  0.163542         0.162868      0.131827          0.134832   \n",
       "177   0.161369  0.163542         0.162868      0.204586          0.204586   \n",
       "217   0.161369  0.163542         0.162868      0.204586          0.204586   \n",
       "333   0.161369  0.163542         0.162868      0.165154          0.164953   \n",
       "359   0.161369  0.238532         0.162868      0.131827          0.134832   \n",
       "\n",
       "     code_site_category  code_app_id  code_app_domain  code_app_category  \\\n",
       "37             0.140056     0.138528         0.138528           0.181850   \n",
       "177            0.195482     0.185673         0.182834           0.186835   \n",
       "217            0.195482     0.185673         0.182834           0.186835   \n",
       "333            0.166852     0.185673         0.182834           0.186835   \n",
       "359            0.140056     0.137972         0.182834           0.186835   \n",
       "\n",
       "     code_device_id      ...       code_C16  code_C17  code_C18  code_C19  \\\n",
       "37         0.165987      ...       0.156461  0.084553  0.147997  0.142737   \n",
       "177        0.165987      ...       0.156461  0.192816  0.147997  0.142737   \n",
       "217        0.165987      ...       0.156461  0.192816  0.147997  0.142737   \n",
       "333        0.165987      ...       0.156461  0.084553  0.147997  0.142737   \n",
       "359        0.157837      ...       0.156461  0.288793  0.140741  0.283384   \n",
       "\n",
       "     code_C20  code_C21  code_day  code_hour1  code_day_hour  code_weekday  \n",
       "37   0.157746  0.107680  0.173759    0.170765       0.161369      0.173759  \n",
       "177  0.181245  0.187803  0.173759    0.170765       0.161369      0.173759  \n",
       "217  0.213944  0.187803  0.173759    0.170765       0.161369      0.173759  \n",
       "333  0.181245  0.107680  0.173759    0.170765       0.161369      0.173759  \n",
       "359  0.181245  0.280989  0.173759    0.170765       0.161369      0.173759  \n",
       "\n",
       "[5 rows x 26 columns]"
      ]
     },
     "execution_count": 8,
     "metadata": {},
     "output_type": "execute_result"
    }
   ],
   "source": [
    "#均值编码\n",
    "meancode=data_train[:]\n",
    "P_A=data_train['click'].value_counts()[1]/data_train['click'].value_counts().sum()\n",
    "#筛选出点击率为1的事件\n",
    "data_train_click=data_train[data_train['click']==1]\n",
    "for v in data_train.columns:\n",
    "    if v=='click':\n",
    "        pass\n",
    "    else:\n",
    "        print('\\n%s属性的取值和次数'%v)\n",
    "        P=pd.concat([data_train[v].value_counts(),data_train[v].value_counts(normalize=True),\\\n",
    "                       data_train_click[v].value_counts(normalize=True)],\\\n",
    "                       axis=1,join_axes=[data_train[v].value_counts().index],keys=['特征分布','P_C','P_C|A']).fillna(0)\n",
    "        #P(A│ci)=(P(ci│A)P(A))/(P(ci))\n",
    "        P['P_A|C/后验概率']=(P['P_C|A']*P_A)/P['P_C']\n",
    "        P['概率提升比%']=(P['P_A|C/后验概率']-P_A)*100/P_A\n",
    "        lemda=1/((np.exp(P['特征分布']-20)/100)+1)\n",
    "        P['meancode']=lemda*P_A+(1-lemda)*P['P_A|C/后验概率']        \n",
    "        meancode[v]=meancode[v].replace(list(P['meancode'].index),list(P['meancode'].values)) \n",
    "meancode=meancode.drop('click',axis=1)\n",
    "col=[]\n",
    "for var in meancode.columns:\n",
    "    col.append('code_'+var)\n",
    "meancode.columns=col\n",
    "meancode.head()"
   ]
  },
  {
   "cell_type": "code",
   "execution_count": 9,
   "metadata": {},
   "outputs": [],
   "source": [
    "#onehot之前再编码一次，Onehot不能处理字符串\n",
    "for var in data_train.columns:\n",
    "    if var in ['click']:\n",
    "        pass\n",
    "    else:\n",
    "        data_train[var]=data_train[var].astype('category').values.codes     \n",
    "#onehot\n",
    "x=data_train.drop('click',axis=1)\n",
    "data_train_x=sparse.hstack((OneHotEncoder().fit_transform(x),meancode.values)).toarray()\n",
    "data_train_y=data_train['click']"
   ]
  },
  {
   "cell_type": "markdown",
   "metadata": {},
   "source": [
    "## 3、基本模型训练效果及论证"
   ]
  },
  {
   "cell_type": "markdown",
   "metadata": {},
   "source": [
    "### 3.1 logistic回归"
   ]
  },
  {
   "cell_type": "code",
   "execution_count": 14,
   "metadata": {},
   "outputs": [
    {
     "data": {
      "text/plain": [
       "GridSearchCV(cv=5, error_score='raise',\n",
       "       estimator=LogisticRegression(C=1.0, class_weight=None, dual=False, fit_intercept=True,\n",
       "          intercept_scaling=1, max_iter=100, multi_class='ovr', n_jobs=1,\n",
       "          penalty='l2', random_state=None, solver='liblinear', tol=0.0001,\n",
       "          verbose=0, warm_start=False),\n",
       "       fit_params=None, iid=True, n_jobs=1,\n",
       "       param_grid={'penalty': ['l1', 'l2'], 'C': [1e-05, 0.0001, 0.001, 0.01, 0.1, 1]},\n",
       "       pre_dispatch='2*n_jobs', refit=True, return_train_score='warn',\n",
       "       scoring='neg_log_loss', verbose=0)"
      ]
     },
     "execution_count": 14,
     "metadata": {},
     "output_type": "execute_result"
    }
   ],
   "source": [
    "#设置参数，fit\n",
    "penaltys_lr = ['l1','l2']\n",
    "Cs_lr = [0.00001,0.0001,0.001, 0.01, 0.1, 1]\n",
    "parameters_lr = dict(penalty =penaltys_lr,C =Cs_lr)\n",
    "estimator_lr= LogisticRegression()\n",
    "grid_lr= GridSearchCV(estimator_lr,parameters_lr,cv=5, scoring='neg_log_loss')\n",
    "grid_lr.fit(meancode.values,data_train_y)"
   ]
  },
  {
   "cell_type": "markdown",
   "metadata": {},
   "source": [
    "### cv结果"
   ]
  },
  {
   "cell_type": "code",
   "execution_count": 15,
   "metadata": {},
   "outputs": [
    {
     "name": "stderr",
     "output_type": "stream",
     "text": [
      "C:\\ProgramData\\Anaconda3\\lib\\site-packages\\sklearn\\utils\\deprecation.py:122: FutureWarning: You are accessing a training score ('split0_train_score'), which will not be available by default any more in 0.21. If you need training scores, please set return_train_score=True\n",
      "  warnings.warn(*warn_args, **warn_kwargs)\n",
      "C:\\ProgramData\\Anaconda3\\lib\\site-packages\\sklearn\\utils\\deprecation.py:122: FutureWarning: You are accessing a training score ('split1_train_score'), which will not be available by default any more in 0.21. If you need training scores, please set return_train_score=True\n",
      "  warnings.warn(*warn_args, **warn_kwargs)\n",
      "C:\\ProgramData\\Anaconda3\\lib\\site-packages\\sklearn\\utils\\deprecation.py:122: FutureWarning: You are accessing a training score ('split2_train_score'), which will not be available by default any more in 0.21. If you need training scores, please set return_train_score=True\n",
      "  warnings.warn(*warn_args, **warn_kwargs)\n",
      "C:\\ProgramData\\Anaconda3\\lib\\site-packages\\sklearn\\utils\\deprecation.py:122: FutureWarning: You are accessing a training score ('split3_train_score'), which will not be available by default any more in 0.21. If you need training scores, please set return_train_score=True\n",
      "  warnings.warn(*warn_args, **warn_kwargs)\n",
      "C:\\ProgramData\\Anaconda3\\lib\\site-packages\\sklearn\\utils\\deprecation.py:122: FutureWarning: You are accessing a training score ('split4_train_score'), which will not be available by default any more in 0.21. If you need training scores, please set return_train_score=True\n",
      "  warnings.warn(*warn_args, **warn_kwargs)\n",
      "C:\\ProgramData\\Anaconda3\\lib\\site-packages\\sklearn\\utils\\deprecation.py:122: FutureWarning: You are accessing a training score ('mean_train_score'), which will not be available by default any more in 0.21. If you need training scores, please set return_train_score=True\n",
      "  warnings.warn(*warn_args, **warn_kwargs)\n",
      "C:\\ProgramData\\Anaconda3\\lib\\site-packages\\sklearn\\utils\\deprecation.py:122: FutureWarning: You are accessing a training score ('std_train_score'), which will not be available by default any more in 0.21. If you need training scores, please set return_train_score=True\n",
      "  warnings.warn(*warn_args, **warn_kwargs)\n"
     ]
    },
    {
     "data": {
      "text/plain": [
       "{'mean_fit_time': array([ 0.12815995,  0.21859989,  0.16543999,  0.22232003,  0.17319994,\n",
       "         0.23207998,  0.59896002,  0.32676001,  4.44284005,  0.45379996,\n",
       "        22.48960018,  0.57416   ]),\n",
       " 'std_fit_time': array([0.01290059, 0.04910818, 0.03041036, 0.02084404, 0.01245031,\n",
       "        0.0122283 , 0.03094804, 0.01504095, 0.9561929 , 0.03998805,\n",
       "        2.51681351, 0.03619289]),\n",
       " 'mean_score_time': array([0.00872011, 0.01312003, 0.00903997, 0.00299997, 0.00623994,\n",
       "        0.01116014, 0.00884008, 0.00644002, 0.00311999, 0.01248012,\n",
       "        0.00783992, 0.01248012]),\n",
       " 'std_score_time': array([0.00355441, 0.00567621, 0.00544264, 0.00599995, 0.00764233,\n",
       "        0.00730968, 0.00601646, 0.00789372, 0.00623999, 0.00624006,\n",
       "        0.00697692, 0.00624006]),\n",
       " 'param_C': masked_array(data=[1e-05, 1e-05, 0.0001, 0.0001, 0.001, 0.001, 0.01, 0.01,\n",
       "                    0.1, 0.1, 1, 1],\n",
       "              mask=[False, False, False, False, False, False, False, False,\n",
       "                    False, False, False, False],\n",
       "        fill_value='?',\n",
       "             dtype=object),\n",
       " 'param_penalty': masked_array(data=['l1', 'l2', 'l1', 'l2', 'l1', 'l2', 'l1', 'l2', 'l1',\n",
       "                    'l2', 'l1', 'l2'],\n",
       "              mask=[False, False, False, False, False, False, False, False,\n",
       "                    False, False, False, False],\n",
       "        fill_value='?',\n",
       "             dtype=object),\n",
       " 'params': [{'C': 1e-05, 'penalty': 'l1'},\n",
       "  {'C': 1e-05, 'penalty': 'l2'},\n",
       "  {'C': 0.0001, 'penalty': 'l1'},\n",
       "  {'C': 0.0001, 'penalty': 'l2'},\n",
       "  {'C': 0.001, 'penalty': 'l1'},\n",
       "  {'C': 0.001, 'penalty': 'l2'},\n",
       "  {'C': 0.01, 'penalty': 'l1'},\n",
       "  {'C': 0.01, 'penalty': 'l2'},\n",
       "  {'C': 0.1, 'penalty': 'l1'},\n",
       "  {'C': 0.1, 'penalty': 'l2'},\n",
       "  {'C': 1, 'penalty': 'l1'},\n",
       "  {'C': 1, 'penalty': 'l2'}],\n",
       " 'split0_test_score': array([-0.69314718, -0.59747925, -0.49063441, -0.47536677, -0.44874576,\n",
       "        -0.43475984, -0.40080777, -0.40377222, -0.39529434, -0.39586085,\n",
       "        -0.39502662, -0.39501332]),\n",
       " 'split1_test_score': array([-0.69314718, -0.5963299 , -0.49060245, -0.47379857, -0.44868281,\n",
       "        -0.43659611, -0.4076993 , -0.41084878, -0.4041451 , -0.40445303,\n",
       "        -0.40636127, -0.40538002]),\n",
       " 'split2_test_score': array([-0.69314718, -0.59753604, -0.49060245, -0.47549265, -0.44868315,\n",
       "        -0.43630438, -0.40156899, -0.40632028, -0.39257105, -0.39474763,\n",
       "        -0.39199579, -0.39214535]),\n",
       " 'split3_test_score': array([-0.69314718, -0.59893252, -0.49060245, -0.47693275, -0.44868358,\n",
       "        -0.4380268 , -0.40587228, -0.40978407, -0.39585116, -0.3973755 ,\n",
       "        -0.3999478 , -0.39940686]),\n",
       " 'split4_test_score': array([-0.69314718, -0.59582503, -0.49060245, -0.4725343 , -0.44868259,\n",
       "        -0.43898347, -0.41560129, -0.41879429, -0.41229976, -0.41365974,\n",
       "        -0.41622074, -0.41527519]),\n",
       " 'mean_test_score': array([-0.69314718, -0.59722055, -0.49060884, -0.47482501, -0.44869558,\n",
       "        -0.4369341 , -0.40630987, -0.40990387, -0.40003224, -0.40121929,\n",
       "        -0.40191037, -0.40144408]),\n",
       " 'std_test_score': array([0.00000000e+00, 1.08055385e-03, 1.27843735e-05, 1.51542939e-03,\n",
       "        2.50922649e-05, 1.45823357e-03, 5.31416345e-03, 5.10659588e-03,\n",
       "        7.25264770e-03, 7.07941763e-03, 8.65023185e-03, 8.23117385e-03]),\n",
       " 'rank_test_score': array([12, 11, 10,  9,  8,  7,  5,  6,  1,  2,  4,  3]),\n",
       " 'split0_train_score': array([-0.69314718, -0.59705442, -0.49059705, -0.47472623, -0.44868171,\n",
       "        -0.43801739, -0.40593738, -0.4105121 , -0.39913093, -0.40032773,\n",
       "        -0.3985524 , -0.39860639]),\n",
       " 'split1_train_score': array([-0.69314718, -0.59755478, -0.49061179, -0.47483366, -0.44869883,\n",
       "        -0.43671819, -0.40404333, -0.40844077, -0.39691561, -0.39816874,\n",
       "        -0.3961025 , -0.39621697]),\n",
       " 'split2_train_score': array([-0.69314718, -0.59702775, -0.49061179, -0.47461898, -0.44869917,\n",
       "        -0.43720777, -0.40651135, -0.41028846, -0.40028654, -0.40118642,\n",
       "        -0.39952611, -0.3995999 ]),\n",
       " 'split3_train_score': array([-0.69314718, -0.59647033, -0.49061179, -0.47449751, -0.4486996 ,\n",
       "        -0.43638971, -0.40759736, -0.41011679, -0.39953126, -0.40075656,\n",
       "        -0.39859753, -0.3986795 ]),\n",
       " 'split4_train_score': array([-0.69314718, -0.59781698, -0.49061179, -0.47506196, -0.4486986 ,\n",
       "        -0.43511625, -0.40216449, -0.40631201, -0.39469899, -0.39587729,\n",
       "        -0.39381827, -0.39392279]),\n",
       " 'mean_train_score': array([-0.69314718, -0.59718485, -0.49060884, -0.47474767, -0.44869558,\n",
       "        -0.43668986, -0.40525078, -0.40913403, -0.39811266, -0.39926335,\n",
       "        -0.39731936, -0.39740511]),\n",
       " 'std_train_score': array([0.00000000e+00, 4.66620097e-04, 5.89525324e-06, 1.92755242e-04,\n",
       "        6.94455973e-06, 9.58925255e-04, 1.92613852e-03, 1.59009376e-03,\n",
       "        2.04260392e-03, 1.98617123e-03, 2.08625208e-03, 2.06990388e-03])}"
      ]
     },
     "execution_count": 15,
     "metadata": {},
     "output_type": "execute_result"
    }
   ],
   "source": [
    "grid_lr.cv_results_"
   ]
  },
  {
   "cell_type": "markdown",
   "metadata": {},
   "source": [
    "### 调参结果、logloss"
   ]
  },
  {
   "cell_type": "code",
   "execution_count": 16,
   "metadata": {},
   "outputs": [
    {
     "name": "stdout",
     "output_type": "stream",
     "text": [
      "0.4000322357483718\n",
      "{'C': 0.1, 'penalty': 'l1'}\n"
     ]
    }
   ],
   "source": [
    "print(-grid_lr.best_score_)\n",
    "print(grid_lr.best_params_)"
   ]
  },
  {
   "cell_type": "markdown",
   "metadata": {},
   "source": [
    "### 可视化"
   ]
  },
  {
   "cell_type": "code",
   "execution_count": 17,
   "metadata": {},
   "outputs": [
    {
     "name": "stderr",
     "output_type": "stream",
     "text": [
      "C:\\ProgramData\\Anaconda3\\lib\\site-packages\\sklearn\\utils\\deprecation.py:122: FutureWarning: You are accessing a training score ('mean_train_score'), which will not be available by default any more in 0.21. If you need training scores, please set return_train_score=True\n",
      "  warnings.warn(*warn_args, **warn_kwargs)\n",
      "C:\\ProgramData\\Anaconda3\\lib\\site-packages\\sklearn\\utils\\deprecation.py:122: FutureWarning: You are accessing a training score ('std_train_score'), which will not be available by default any more in 0.21. If you need training scores, please set return_train_score=True\n",
      "  warnings.warn(*warn_args, **warn_kwargs)\n"
     ]
    },
    {
     "data": {
      "image/png": "[encoded data removed]",
      "text/plain": [
       "<Figure size 432x288 with 1 Axes>"
      ]
     },
     "metadata": {},
     "output_type": "display_data"
    }
   ],
   "source": [
    "# plot CV误差曲线\n",
    "from matplotlib import pyplot\n",
    "test_means = grid_lr.cv_results_[ 'mean_test_score' ]\n",
    "test_stds = grid_lr.cv_results_[ 'std_test_score' ]\n",
    "train_means = grid_lr.cv_results_[ 'mean_train_score' ]\n",
    "train_stds = grid_lr.cv_results_[ 'std_train_score' ]\n",
    "\n",
    "# plot results\n",
    "n_Cs = len(Cs_lr)\n",
    "number_penaltys = len(penaltys_lr)\n",
    "test_scores = np.array(test_means).reshape(n_Cs,number_penaltys)\n",
    "train_scores = np.array(train_means).reshape(n_Cs,number_penaltys)\n",
    "test_stds = np.array(test_stds).reshape(n_Cs,number_penaltys)\n",
    "train_stds = np.array(train_stds).reshape(n_Cs,number_penaltys)\n",
    "\n",
    "x_axis = np.log10(Cs_lr)\n",
    "for i, value in enumerate(penaltys_lr):\n",
    "    #pyplot.plot(log(Cs), test_scores[i], label= 'penalty:'   + str(value))\n",
    "    pyplot.errorbar(x_axis, -test_scores[:,i], yerr=test_stds[:,i] ,label = penaltys_lr[i] +' Test')\n",
    "    pyplot.errorbar(x_axis, -train_scores[:,i], yerr=train_stds[:,i] ,label = penaltys_lr[i] +' Train')\n",
    "    \n",
    "pyplot.legend()\n",
    "pyplot.xlabel( 'log(C)' )                                                                                                      \n",
    "pyplot.ylabel( 'neg-logloss' )\n",
    "pyplot.savefig('Logisticgrid_lrSearchCV_C.png' )\n",
    "pyplot.show()"
   ]
  },
  {
   "cell_type": "code",
   "execution_count": null,
   "metadata": {},
   "outputs": [],
   "source": []
  },
  {
   "cell_type": "code",
   "execution_count": null,
   "metadata": {},
   "outputs": [],
   "source": []
  },
  {
   "cell_type": "code",
   "execution_count": null,
   "metadata": {},
   "outputs": [],
   "source": []
  },
  {
   "cell_type": "code",
   "execution_count": null,
   "metadata": {},
   "outputs": [],
   "source": []
  },
  {
   "cell_type": "code",
   "execution_count": null,
   "metadata": {},
   "outputs": [],
   "source": []
  },
  {
   "cell_type": "code",
   "execution_count": null,
   "metadata": {},
   "outputs": [],
   "source": []
  },
  {
   "cell_type": "code",
   "execution_count": null,
   "metadata": {},
   "outputs": [],
   "source": []
  },
  {
   "cell_type": "code",
   "execution_count": null,
   "metadata": {},
   "outputs": [],
   "source": []
  },
  {
   "cell_type": "code",
   "execution_count": null,
   "metadata": {},
   "outputs": [],
   "source": []
  },
  {
   "cell_type": "code",
   "execution_count": null,
   "metadata": {},
   "outputs": [],
   "source": []
  },
  {
   "cell_type": "code",
   "execution_count": null,
   "metadata": {},
   "outputs": [],
   "source": []
  },
  {
   "cell_type": "code",
   "execution_count": null,
   "metadata": {},
   "outputs": [],
   "source": []
  },
  {
   "cell_type": "code",
   "execution_count": null,
   "metadata": {},
   "outputs": [],
   "source": []
  },
  {
   "cell_type": "code",
   "execution_count": null,
   "metadata": {},
   "outputs": [],
   "source": []
  },
  {
   "cell_type": "code",
   "execution_count": null,
   "metadata": {},
   "outputs": [],
   "source": []
  },
  {
   "cell_type": "code",
   "execution_count": null,
   "metadata": {},
   "outputs": [],
   "source": []
  },
  {
   "cell_type": "code",
   "execution_count": null,
   "metadata": {},
   "outputs": [],
   "source": []
  },
  {
   "cell_type": "code",
   "execution_count": null,
   "metadata": {},
   "outputs": [],
   "source": []
  },
  {
   "cell_type": "code",
   "execution_count": null,
   "metadata": {},
   "outputs": [],
   "source": []
  },
  {
   "cell_type": "code",
   "execution_count": null,
   "metadata": {},
   "outputs": [],
   "source": []
  },
  {
   "cell_type": "code",
   "execution_count": null,
   "metadata": {},
   "outputs": [],
   "source": []
  },
  {
   "cell_type": "code",
   "execution_count": null,
   "metadata": {},
   "outputs": [],
   "source": []
  },
  {
   "cell_type": "code",
   "execution_count": null,
   "metadata": {},
   "outputs": [],
   "source": []
  },
  {
   "cell_type": "code",
   "execution_count": null,
   "metadata": {},
   "outputs": [],
   "source": []
  },
  {
   "cell_type": "code",
   "execution_count": null,
   "metadata": {},
   "outputs": [],
   "source": []
  },
  {
   "cell_type": "code",
   "execution_count": null,
   "metadata": {},
   "outputs": [],
   "source": []
  },
  {
   "cell_type": "code",
   "execution_count": null,
   "metadata": {},
   "outputs": [],
   "source": []
  },
  {
   "cell_type": "code",
   "execution_count": null,
   "metadata": {},
   "outputs": [],
   "source": []
  },
  {
   "cell_type": "code",
   "execution_count": null,
   "metadata": {},
   "outputs": [],
   "source": []
  }
 ],
 "metadata": {
  "kernelspec": {
   "display_name": "Python 3",
   "language": "python",
   "name": "python3"
  },
  "language_info": {
   "codemirror_mode": {
    "name": "ipython",
    "version": 3
   },
   "file_extension": ".py",
   "mimetype": "text/x-python",
   "name": "python",
   "nbconvert_exporter": "python",
   "pygments_lexer": "ipython3",
   "version": "3.6.5"
  }
 },
 "nbformat": 4,
 "nbformat_minor": 2
}
